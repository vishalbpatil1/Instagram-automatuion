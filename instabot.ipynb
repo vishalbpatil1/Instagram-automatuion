{
 "cells": [
  {
   "cell_type": "code",
   "execution_count": null,
   "metadata": {},
   "outputs": [],
   "source": [
    " #!pip install instabot"
   ]
  },
  {
   "cell_type": "code",
   "execution_count": 1,
   "metadata": {},
   "outputs": [],
   "source": [
    "from instabot import Bot\n",
    "import os\n",
    "import shutil\n",
    "import time\n",
    "import pandas as pd"
   ]
  },
  {
   "cell_type": "code",
   "execution_count": 2,
   "metadata": {},
   "outputs": [],
   "source": [
    "class my_insta_login():\n",
    "    def __init__(self,my_username,my_password):\n",
    "        ''''''\n",
    "        try:      \n",
    "            self.my_username=my_username\n",
    "            self.my_password=my_password\n",
    "            cwd=os.getcwd()  ## Get the current working\n",
    "            if 'config' in os.listdir():\n",
    "                shutil.rmtree('config') #deletes a directory and all its contents\n",
    "                time.sleep(1) \n",
    "            self.bot = Bot()\n",
    "            self.bot.login(username=self.my_username,password=self.my_password)\n",
    "        except:\n",
    "             print(\". Something went to wrong\\n. Restart kernal\\n. Please logout your previous login\")\n",
    "        \n",
    "    def get_followers_info(self,userid):\n",
    "        ''''''\n",
    "        username=[]\n",
    "        media_count=[]\n",
    "        follower_count=[]\n",
    "        following_count=[]\n",
    "        following_count=[]\n",
    "        mutual_followers_count=[]\n",
    "        followers_pk=[]\n",
    "        self.userid=userid\n",
    "        my_followers_pk=self.bot.get_user_followers(self.userid) \n",
    "        for pk in my_followers_pk:\n",
    "            followers_pk.append(pk)\n",
    "        for pk in followers_pk:\n",
    "            info=self.bot.get_user_info(pk)\n",
    "            username.append(info['username'])\n",
    "            media_count.append(info['media_count'])\n",
    "            follower_count.append(info['follower_count'])\n",
    "            following_count.append(info['following_count'])\n",
    "            mutual_followers_count.append(info['mutual_followers_count'])\n",
    "            #followers_id.append(info)\n",
    "        df=pd.DataFrame({'username':username,'media_count':media_count,'follower_count':follower_count,\n",
    "                         'following_count':following_count,'mutual_followers_count':mutual_followers_count})\n",
    "        return df\n",
    "    \n",
    "    def logout(self):\n",
    "        self.bot.logout()\n",
    "    def post_image(self,img_path,photo_caption=\"\"):\n",
    "        self.bot.upload_photo(img_path,caption=photo_caption)\n",
    "    def send_msg_to_id(self,msg,username_list):\n",
    "        self.bot.send_message(msg,username_list)\n",
    "    def unfollow_everyone(self):\n",
    "        print()\n",
    "        self.bot.unfollow_everyone()\n",
    "    def follow_user(self,username):\n",
    "        self.bot.follow(username)\n",
    "        "
   ]
  },
  {
   "cell_type": "code",
   "execution_count": null,
   "metadata": {},
   "outputs": [
    {
     "name": "stderr",
     "output_type": "stream",
     "text": [
      "2021-06-22 22:19:42,606 - INFO - Instabot version: 0.117.0 Started\n",
      "2021-06-22 22:19:42,612 - INFO - Not yet logged in starting: PRE-LOGIN FLOW!\n",
      "2021-06-22 22:19:44,451 - ERROR - Request returns 429 error!\n",
      "2021-06-22 22:19:44,458 - WARNING - That means 'too many requests'. I'll go to sleep for 5 minutes.\n"
     ]
    }
   ],
   "source": [
    "my_insta=my_insta_login(my_username='xxxxxxxxx',my_password='**********')"
   ]
  },
  {
   "cell_type": "code",
   "execution_count": 4,
   "metadata": {},
   "outputs": [
    {
     "name": "stderr",
     "output_type": "stream",
     "text": [
      "Getting followers of 5346111587: 100%|██████████████████████████████████████████████▊| 297/298 [00:06<00:00, 44.79it/s]\n"
     ]
    }
   ],
   "source": [
    "#followers_info_df=my_insta.get_followers_info('vishalpatilarag')"
   ]
  },
  {
   "cell_type": "code",
   "execution_count": null,
   "metadata": {},
   "outputs": [],
   "source": [
    "followers_info_df=my_insta.get_followers_info('xxxxxxx')"
   ]
  },
  {
   "cell_type": "code",
   "execution_count": null,
   "metadata": {},
   "outputs": [],
   "source": [
    "followers_info_df    # data frame"
   ]
  },
  {
   "cell_type": "code",
   "execution_count": null,
   "metadata": {},
   "outputs": [],
   "source": [
    "my_insta.bot.get_user_info(user_id='xxxx')    # followers info"
   ]
  }
 ],
 "metadata": {
  "kernelspec": {
   "display_name": "Python 3",
   "language": "python",
   "name": "python3"
  },
  "language_info": {
   "codemirror_mode": {
    "name": "ipython",
    "version": 3
   },
   "file_extension": ".py",
   "mimetype": "text/x-python",
   "name": "python",
   "nbconvert_exporter": "python",
   "pygments_lexer": "ipython3",
   "version": "3.8.5"
  }
 },
 "nbformat": 4,
 "nbformat_minor": 4
}
